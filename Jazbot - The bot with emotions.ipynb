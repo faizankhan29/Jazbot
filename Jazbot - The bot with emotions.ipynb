{
 "cells": [
  {
   "cell_type": "markdown",
   "metadata": {},
   "source": [
    "# Ideas for the AI:\n",
    "\n",
    "\n",
    "The features of the bot include:\n",
    "\n",
    "1. Basic Conversation :-\n",
    "\n",
    "    1.1. Small Talk.\n",
    "    \n",
    "    1.2. Intent Recognition.\n",
    "    \n",
    "    1.3. Entity Recognition.\n",
    "    \n",
    "    *1.4. NLU Exploration - Generating text - GPT2 with the Uber LM Controlling methods.\n",
    "\n",
    "\n",
    "2. Search Functionality :-\n",
    "\n",
    "    2.1. Basic google search for fact search.\n",
    "    \n",
    "    2.2. Document Search.\n",
    "    \n",
    "    2.3. Text in document.\n",
    "\n",
    "\n",
    "3. *Emotion Detection :-\n",
    "\n",
    "    3.1. Detecting emotions.\n",
    "    \n",
    "    3.2. Adjusting responses accordingly.\n",
    "    \n",
    "    3.3. Basic emotion-based responses.\n",
    "    \n",
    "    \n",
    "Star(*) Denotes features where more time needs to be spent."
   ]
  },
  {
   "cell_type": "code",
   "execution_count": null,
   "metadata": {},
   "outputs": [],
   "source": []
  },
  {
   "cell_type": "code",
   "execution_count": null,
   "metadata": {},
   "outputs": [],
   "source": []
  }
 ],
 "metadata": {
  "kernelspec": {
   "display_name": "Python 3",
   "language": "python",
   "name": "python3"
  },
  "language_info": {
   "codemirror_mode": {
    "name": "ipython",
    "version": 3
   },
   "file_extension": ".py",
   "mimetype": "text/x-python",
   "name": "python",
   "nbconvert_exporter": "python",
   "pygments_lexer": "ipython3",
   "version": "3.6.8"
  }
 },
 "nbformat": 4,
 "nbformat_minor": 2
}
